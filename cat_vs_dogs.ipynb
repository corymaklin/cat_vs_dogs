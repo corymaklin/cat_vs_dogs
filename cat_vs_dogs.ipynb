{
 "cells": [
  {
   "cell_type": "code",
   "execution_count": 13,
   "metadata": {},
   "outputs": [],
   "source": [
    "from keras.preprocessing.image import ImageDataGenerator\n",
    "from keras.layers import Dense, LeakyReLU, Flatten, Conv2D, MaxPool2D, Dropout\n",
    "from keras.layers import Activation\n",
    "from keras.models import Sequential"
   ]
  },
  {
   "cell_type": "code",
   "execution_count": 14,
   "metadata": {},
   "outputs": [],
   "source": [
    "IMAGE_WIDTH = 50\n",
    "IMAGE_HEIGHT = 50"
   ]
  },
  {
   "cell_type": "code",
   "execution_count": 15,
   "metadata": {},
   "outputs": [],
   "source": [
    "train_datagen = ImageDataGenerator(\n",
    "        rescale=1./255,\n",
    "        shear_range=0.2,\n",
    "        zoom_range=0.2,\n",
    "        horizontal_flip=True,\n",
    "        validation_split = 0.20\n",
    ")\n",
    "\n",
    "test_datagen = ImageDataGenerator(rescale=1./255)"
   ]
  },
  {
   "cell_type": "code",
   "execution_count": 16,
   "metadata": {},
   "outputs": [
    {
     "name": "stdout",
     "output_type": "stream",
     "text": [
      "Found 20000 images belonging to 2 classes.\n",
      "Found 5000 images belonging to 2 classes.\n"
     ]
    }
   ],
   "source": [
    "train_generator = train_datagen.flow_from_directory(\n",
    "    color_mode = 'grayscale',\n",
    "    classes = ['dogs', 'cats'],\n",
    "    class_mode = 'binary',\n",
    "    shuffle = True,\n",
    "    directory = 'train',\n",
    "    target_size = (IMAGE_WIDTH, IMAGE_HEIGHT),\n",
    "    batch_size = 32,\n",
    "    subset = 'training'\n",
    ")\n",
    "\n",
    "validation_generator = train_datagen.flow_from_directory(\n",
    "    color_mode = 'grayscale',\n",
    "    classes = ['dogs', 'cats'],\n",
    "    class_mode = 'binary',\n",
    "    shuffle = True,\n",
    "    directory = 'train',\n",
    "    target_size = (IMAGE_WIDTH, IMAGE_HEIGHT),\n",
    "    batch_size = 32,\n",
    "    subset = 'validation'\n",
    ")"
   ]
  },
  {
   "cell_type": "code",
   "execution_count": 17,
   "metadata": {},
   "outputs": [],
   "source": [
    "model = Sequential()\n",
    "\n",
    "model.add(Conv2D(50, (3,3), input_shape=(IMAGE_WIDTH, IMAGE_HEIGHT, 1)))\n",
    "# model.add(BatchNormalization())\n",
    "model.add(LeakyReLU())\n",
    "model.add(MaxPool2D(pool_size=(2,2)))\n",
    "\n",
    "model.add(Conv2D(64, (3,3)))\n",
    "# model.add(BatchNormalization())\n",
    "model.add(LeakyReLU())\n",
    "model.add(MaxPool2D(pool_size=(2,2)))\n",
    "\n",
    "model.add(Flatten())\n",
    "model.add(Dense(256))\n",
    "model.add(LeakyReLU())\n",
    "model.add(Dropout(0.5))\n",
    "\n",
    "model.add(Dense(128))\n",
    "model.add(LeakyReLU())\n",
    "model.add(Dropout(0.5))\n",
    "\n",
    "model.add(Dense(1))\n",
    "model.add(Activation('sigmoid'))\n",
    "\n",
    "model.compile(\n",
    "    loss='binary_crossentropy', \n",
    "    optimizer='adam',\n",
    "    metrics=['accuracy']\n",
    ")"
   ]
  },
  {
   "cell_type": "code",
   "execution_count": 18,
   "metadata": {},
   "outputs": [
    {
     "name": "stdout",
     "output_type": "stream",
     "text": [
      "Epoch 1/10\n",
      "2000/2000 [==============================] - 325s 163ms/step - loss: 0.5674 - acc: 0.7030 - val_loss: 0.5055 - val_acc: 0.7446\n",
      "Epoch 2/10\n",
      "2000/2000 [==============================] - 328s 164ms/step - loss: 0.4884 - acc: 0.7655 - val_loss: 0.4780 - val_acc: 0.7637\n",
      "Epoch 3/10\n",
      "2000/2000 [==============================] - 321s 160ms/step - loss: 0.4542 - acc: 0.7880 - val_loss: 0.4615 - val_acc: 0.7920\n",
      "Epoch 4/10\n",
      "2000/2000 [==============================] - 321s 160ms/step - loss: 0.4312 - acc: 0.8007 - val_loss: 0.4528 - val_acc: 0.7910\n",
      "Epoch 5/10\n",
      "2000/2000 [==============================] - 331s 165ms/step - loss: 0.4161 - acc: 0.8092 - val_loss: 0.4328 - val_acc: 0.8073\n",
      "Epoch 6/10\n",
      "2000/2000 [==============================] - 324s 162ms/step - loss: 0.3960 - acc: 0.8202 - val_loss: 0.4200 - val_acc: 0.8091\n",
      "Epoch 7/10\n",
      "2000/2000 [==============================] - 321s 160ms/step - loss: 0.3840 - acc: 0.8272 - val_loss: 0.4350 - val_acc: 0.8071\n",
      "Epoch 8/10\n",
      "2000/2000 [==============================] - 321s 161ms/step - loss: 0.3740 - acc: 0.8330 - val_loss: 0.4427 - val_acc: 0.8083\n",
      "Epoch 9/10\n",
      "2000/2000 [==============================] - 321s 161ms/step - loss: 0.3597 - acc: 0.8414 - val_loss: 0.4211 - val_acc: 0.8130\n",
      "Epoch 10/10\n",
      "2000/2000 [==============================] - 322s 161ms/step - loss: 0.3527 - acc: 0.8438 - val_loss: 0.4000 - val_acc: 0.8197\n"
     ]
    },
    {
     "data": {
      "text/plain": [
       "<keras.callbacks.History at 0x7f0041f09e48>"
      ]
     },
     "execution_count": 18,
     "metadata": {},
     "output_type": "execute_result"
    }
   ],
   "source": [
    "model.fit_generator(\n",
    "    train_generator,\n",
    "    steps_per_epoch=2000,\n",
    "    epochs=10,\n",
    "    validation_data=validation_generator,\n",
    "    validation_steps=64\n",
    ")"
   ]
  },
  {
   "cell_type": "code",
   "execution_count": null,
   "metadata": {},
   "outputs": [],
   "source": []
  }
 ],
 "metadata": {
  "kernelspec": {
   "display_name": "Python 3",
   "language": "python",
   "name": "python3"
  },
  "language_info": {
   "codemirror_mode": {
    "name": "ipython",
    "version": 3
   },
   "file_extension": ".py",
   "mimetype": "text/x-python",
   "name": "python",
   "nbconvert_exporter": "python",
   "pygments_lexer": "ipython3",
   "version": "3.6.8"
  }
 },
 "nbformat": 4,
 "nbformat_minor": 2
}
